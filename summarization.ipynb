from transformers import pipeline

summarizer = pipeline("summarization", model="facebook/bart-large-cnn")

long_text = """
The product was delivered late and the packaging was damaged. I contacted support but didn't get a helpful response. 
Eventually, I had to return the item. This was a frustrating experience and I’m not sure I’ll order again.
"""

short_summary = summarizer(long_text, max_length=30, min_length=10, do_sample=False)
detailed_summary = summarizer(long_text, max_length=60, min_length=30, do_sample=False)

print("Short Summary:", short_summary[0]['summary_text'])
print("Detailed Summary:", detailed_summary[0]['summary_text'])
